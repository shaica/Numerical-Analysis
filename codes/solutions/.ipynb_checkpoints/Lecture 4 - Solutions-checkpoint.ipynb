{
 "cells": [
  {
   "cell_type": "markdown",
   "metadata": {},
   "source": [
    "# Lecture 4 - Solutions\n",
    "Solutions of exercises in END2962 - Lecture 4 workbook."
   ]
  },
  {
   "cell_type": "code",
   "execution_count": 2,
   "metadata": {},
   "outputs": [],
   "source": [
    "#Necessary predefinitions\n",
    "import math as m\n",
    "\n",
    "def g(x):\n",
    "    return 1+3/x\n",
    "\n",
    "def f(x):\n",
    "    return m.exp(-x) - x\n",
    "\n",
    "def fPrime(x):\n",
    "    return -m.exp(-x) - 1"
   ]
  },
  {
   "cell_type": "markdown",
   "metadata": {},
   "source": [
    "__Exercise 1__\n",
    "\n",
    "Using the example codes above write a function for fixed-point algorithm with parameters:\n",
    "\n",
    "   * Maximum number of iterations\n",
    "   * Accuracy\n",
    "   * Initial value for $x_0$.\n",
    "   \n",
    "The resulting function should return:\n",
    "\n",
    "   * __If the root is found before the maximum number of iterations:__ The value of root $x_{i+1}$ with the accuracy and at which iteration it is found.\n",
    "   * __If the maximum number of iterations is reached before the desired accuracy level:__  The value of root $x_{i+1}$ with the accuracy. Also state that more iterations may be needed for a more accurate value.\n",
    "   \n",
    "> Try for different values of maximum number of iterations and different $g(x)$ functions."
   ]
  },
  {
   "cell_type": "code",
   "execution_count": 25,
   "metadata": {},
   "outputs": [],
   "source": [
    "def fixedPoint(x_zero, accuracy, imax):\n",
    "    x = list()\n",
    "    error = list()\n",
    "    x.append(x_zero)\n",
    "    for i in range(imax):\n",
    "        x.append(g(x[i]))\n",
    "        error.append(abs(x[i+1]-x[i]))\n",
    "        if error[i] <= accuracy:\n",
    "            print(\"The root is %f with the accuracy %f at iteration %d.\" %(x[i+1], error[i], i))\n",
    "            return x[i+1], error[i]\n",
    "    print(\"The root is %f with the accuracy %f at iteration %d. More iterations necessary.\" %(x[i+1], error[i], i))\n",
    "    return x[i+1], error[i]\n",
    "        \n"
   ]
  },
  {
   "cell_type": "code",
   "execution_count": 26,
   "metadata": {},
   "outputs": [
    {
     "name": "stdout",
     "output_type": "stream",
     "text": [
      "The root is 2.291971 with the accuracy 0.030063 at iteration 5.\n"
     ]
    },
    {
     "data": {
      "text/plain": [
       "(2.291970802919708, 0.03006309538537666)"
      ]
     },
     "execution_count": 26,
     "metadata": {},
     "output_type": "execute_result"
    }
   ],
   "source": [
    "fixedPoint(2,0.05,10)"
   ]
  },
  {
   "cell_type": "markdown",
   "metadata": {},
   "source": [
    "__Exercise 2__\n",
    "\n",
    "Write a function for Newton-Raphson Method using below parameters:\n",
    "\n",
    "   * Maximum number of iterations,\n",
    "   * Error tolerance,\n",
    "   * Initial $x_0$ value."
   ]
  },
  {
   "cell_type": "code",
   "execution_count": 4,
   "metadata": {},
   "outputs": [],
   "source": [
    "def newtonRaphson(xZero, iMax, tolerance):\n",
    "    x = list()\n",
    "    x.append(xZero)\n",
    "    for i in range(iMax):\n",
    "        x.append(x[i] - (f(x[i])/fPrime(x[i])))\n",
    "        error = abs(x[i] - x[i+1])\n",
    "        if error <= tolerance:\n",
    "            print(\"The root is %f with the accuracy %f at iteration %d\" %(x[i+1], error, i))\n",
    "            return x[i+1], error\n",
    "    print(\"The root is %f with the accuracy %f at iteration %d. More iterations necessary.\" %(x[i+1], error, i))\n",
    "    return x[i+1], error"
   ]
  },
  {
   "cell_type": "code",
   "execution_count": 6,
   "metadata": {},
   "outputs": [
    {
     "name": "stdout",
     "output_type": "stream",
     "text": [
      "The root is 0.567143 with the accuracy 0.000832 at iteration 2\n"
     ]
    },
    {
     "data": {
      "text/plain": [
       "(0.5671431650348622, 0.0008321618376440076)"
      ]
     },
     "execution_count": 6,
     "metadata": {},
     "output_type": "execute_result"
    }
   ],
   "source": [
    "newtonRaphson(0,20,0.05)"
   ]
  },
  {
   "cell_type": "markdown",
   "metadata": {},
   "source": [
    "__Exercise 3__\n",
    "\n",
    "Write a function for secant method which uses the below parameters:\n",
    "\n",
    "   * Maximum number of iterations,\n",
    "   * Error tolerance,\n",
    "   * The values of $x_{-1}$ and $x_0$"
   ]
  },
  {
   "cell_type": "code",
   "execution_count": 9,
   "metadata": {},
   "outputs": [],
   "source": [
    "def secant(xMinus1, xZero, tolerance, iMax):\n",
    "    x = list()\n",
    "    x.append(xMinus1)\n",
    "    x.append(xZero)\n",
    "    for i in range(1, iMax+1):\n",
    "        x.append(x[i] - (f(x[i]) * (x[i-1]-x[i])) / (f(x[i-1]) - f(x[i])))\n",
    "        error = abs(x[i+1] - x[i])\n",
    "        if error <= tolerance:\n",
    "            print(\"The root is %f with the accuracy %f at iteration %d\" %(x[i+1], error, i))\n",
    "            return x[i+1], error\n",
    "    print(\"The root is %f with the accuracy %f at iteration %d. More iterations necessary.\" %(x[i+1], error, i))\n",
    "    return x[i+1], error\n",
    "            "
   ]
  },
  {
   "cell_type": "code",
   "execution_count": 10,
   "metadata": {},
   "outputs": [
    {
     "name": "stdout",
     "output_type": "stream",
     "text": [
      "The root is 0.563838 with the accuracy 0.048861 at iteration 2\n"
     ]
    },
    {
     "data": {
      "text/plain": [
       "(0.5638383891610742, 0.048861447619207854)"
      ]
     },
     "execution_count": 10,
     "metadata": {},
     "output_type": "execute_result"
    }
   ],
   "source": [
    "secant(0,1,0.05,10)"
   ]
  },
  {
   "cell_type": "code",
   "execution_count": null,
   "metadata": {},
   "outputs": [],
   "source": []
  }
 ],
 "metadata": {
  "kernelspec": {
   "display_name": "Python 3",
   "language": "python",
   "name": "python3"
  },
  "language_info": {
   "codemirror_mode": {
    "name": "ipython",
    "version": 3
   },
   "file_extension": ".py",
   "mimetype": "text/x-python",
   "name": "python",
   "nbconvert_exporter": "python",
   "pygments_lexer": "ipython3",
   "version": "3.7.1"
  }
 },
 "nbformat": 4,
 "nbformat_minor": 2
}
