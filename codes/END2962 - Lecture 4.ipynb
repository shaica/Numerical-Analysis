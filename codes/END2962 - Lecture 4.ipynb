{
 "cells": [
  {
   "cell_type": "markdown",
   "metadata": {},
   "source": [
    "# Solution of Equations with One Variable - Open Methods"
   ]
  },
  {
   "cell_type": "markdown",
   "metadata": {},
   "source": [
    "Bracketing methods are said to be __convergent__ because they move closer to the truth as the computation progresses. The root is located within an interval prescribed by a lower and an upper bound; repeated application of these methods always results in closer estimates of the true value of the root.\n",
    "\n",
    "In contrast, the open methods are based on formulas that _require only a single starting value of x or two starting values_ that do not necessarily bracket the root. As such, they sometimes diverge from the true root as the computation progresses. However, when the open methods converge, they usually do so _much more quickly_ than the bracketing methods.\n",
    "\n",
    "![Open Methods](images/open1.png)\n",
    "\n",
    "> Figure 1: Graphical depiction of the fundamental difference between the (a) bracketing and (b) and (c) open methods for root location.\n",
    "\n",
    "In Fig 1(a), which is the bisection method, the root is constrained within the interval prescribed by $x_l$ and $x_u$. In contrast, for the open method depicted in Fig.1(b) and Fig.1(c), a formula is used to project from $x_i$ to $x_{i+1}$ in an iterative fashion. Thus, the method can either (b) diverge or (c) converge rapidly, depending on the value of the initial guess."
   ]
  },
  {
   "cell_type": "markdown",
   "metadata": {},
   "source": [
    "## Simple Fized-Point Iteration  (One-Point Iteration OR Successive Substitution)\n",
    "\n",
    "A fixed point for a function is a number at which the value of a function does not change when the function applied. \n",
    "\n",
    "__Definition:__ The number $p$ is a fixed point for a given function $g$ if $𝑔(𝑝) = 𝑝$.\n",
    "Root-finding problems and fixed-point problems are equivalent classes in the following sense:\n",
    "\n",
    "   * Given a root-finding problem $𝑓(𝑝) = 0$, we can define functions $g$ with a fixed point at $p$  in a number of ways, for example, as \n",
    "    \n",
    "\\begin{equation}\n",
    "g(x) = x - f(x) \\quad \\text{or as} \\quad g(x) = x + 3f(x)\n",
    "\\end{equation}\n",
    "    \n",
    "   * Conversely, if the function g has a fixed point at p, then the function defined by \n",
    "   \n",
    "\\begin{equation}\n",
    "f(x) = x - g(x)\n",
    "\\end{equation}\n",
    "\n",
    "has a zero at $p$.\n",
    "\n",
    "Although the problems we wish to solve are in the root-finding form, the fixed-point form is easier to analyze, and certain fixed-point choices lead to very powerful root-finding techniques. For simple fixed-point iteration, we rearrange the function $f(x)=0$ so that $x$ is on the left-hand side of the equation:\n",
    "\n",
    "\\begin{equation}\n",
    "\\label{eq.1} \\tag{1}\n",
    "x = g(x)\n",
    "\\end{equation}\n",
    "\n",
    "The utility of this equation is that it provides a formula to predict a new value of $x$ as a function of an old value of $x$. Thus, given an initial guess at the root $x_i$, to compute a new estimate $x_{i+1}$ as expressed by the iterative formula\n",
    "\n",
    "\\begin{equation}\n",
    "\\label{eq.2} \\tag{2}\n",
    "x_{i+1} = g(x_i)\n",
    "\\end{equation}\n",
    "\n",
    "> __Advantage__ \n",
    "It is very easy to programme.\n",
    "\n",
    "> __Disadvantages__ \n",
    "Diverges if the absolute value of the derivative of $g(x)$ with respect to $x$ is greater than 1 for all $x$ in the interval containing the root."
   ]
  },
  {
   "cell_type": "markdown",
   "metadata": {},
   "source": [
    "__Example 1__\n",
    "\n",
    "Use the fixed-point iteration method to estimate the root of $f(x) = e^{-x} –x$ with an accuracy of $\\epsilon_t = 5\\%$.\n",
    "\n",
    "*(The exact root is 0.56714329).*\n",
    "\n",
    "__Solution__\n",
    "\n",
    "We are searching for the value of x for the instance of $f(x) = 0$. Then $x = e^{-x}$ and the iteration process will be $x_{i+1} = e^{-x_i}$.\n",
    "\n",
    "   * __Step 1:__ Define the function $g(x) = e^{-x}$\n",
    "   \n",
    "> __Step 0:__ A function $e^x$ is called an _exponential function_ and it is defined as a method ([_exp()_](https://www.tutorialspoint.com/python/number_exp.htm)) in the math module. In order to use this method first, we have to import the math module.  \n",
    "\n",
    "   * __Step 2:__ Define the variables for $x_0$ and $\\epsilon_t$. \n",
    "   * __Step 3:__ Define list variables for $x_{i+1}$ and $\\epsilon_{i+1}$.\n",
    "   * __Step 4:__ For 20 iterations calculate the values of $x$ and $\\epsilon$, then store their values in the proper list. Finally print the values of $x$ and $\\epsilon$."
   ]
  },
  {
   "cell_type": "code",
   "execution_count": 17,
   "metadata": {},
   "outputs": [
    {
     "name": "stdout",
     "output_type": "stream",
     "text": [
      "The root x is 0.579612 with the accuracy 0.034217\n"
     ]
    },
    {
     "data": {
      "text/plain": [
       "([0,\n",
       "  1.0,\n",
       "  0.36787944117144233,\n",
       "  0.6922006275553464,\n",
       "  0.5004735005636368,\n",
       "  0.6062435350855974,\n",
       "  0.545395785975027,\n",
       "  0.5796123355033789],\n",
       " [1.0,\n",
       "  0.6321205588285577,\n",
       "  0.32432118638390406,\n",
       "  0.19172712699170957,\n",
       "  0.10577003452196054,\n",
       "  0.06084774911057034,\n",
       "  0.03421654952835185])"
      ]
     },
     "execution_count": 17,
     "metadata": {},
     "output_type": "execute_result"
    }
   ],
   "source": [
    "# Solution 1\n",
    "\n",
    "#Step 0\n",
    "import math as m\n",
    "\n",
    "#Step 1\n",
    "def g(x):\n",
    "    return m.exp(-x)\n",
    "\n",
    "#Step 2\n",
    "x_init = 0\n",
    "accuracy = 0.05\n",
    "\n",
    "#Step 3\n",
    "x = list()\n",
    "error = list()\n",
    "x.append(x_init)\n",
    "\n",
    "#Step 4\n",
    "for i in range(20):\n",
    "    x.append(g(x[i]))\n",
    "    error.append(abs(x[i+1]-x[i]))\n",
    "    if error[i] < accuracy:\n",
    "        print(\"The root x is %f with the accuracy %f\" %(x[i+1],error[i]))\n",
    "        break\n",
    "x, error"
   ]
  },
  {
   "cell_type": "markdown",
   "metadata": {},
   "source": [
    "__Example 2__\n",
    "\n",
    "Use the fixed-point iteration method to estimate the root of $f(x)=sin(x)$ with an accuracy of $\\epsilon_a = 5\\%$.\n",
    "\n",
    "> __Step 0:__ Look up for methods [sin(x) and arcsin(x)](https://docs.python.org/2/library/math.html#trigonometric-functions)"
   ]
  },
  {
   "cell_type": "code",
   "execution_count": 41,
   "metadata": {},
   "outputs": [
    {
     "name": "stdout",
     "output_type": "stream",
     "text": [
      "The root x is 0.008000 with the accuracy 0.000000\n"
     ]
    },
    {
     "data": {
      "text/plain": [
       "([0.008, 0.008000085335791027], [8.533579102729116e-08])"
      ]
     },
     "execution_count": 41,
     "metadata": {},
     "output_type": "execute_result"
    }
   ],
   "source": [
    "#Step 0\n",
    "import math as m\n",
    "\n",
    "#Step 1\n",
    "def g(x):\n",
    "    return m.asin(x)\n",
    "\n",
    "#Step 2\n",
    "x_init = 0.008\n",
    "accuracy = 0.05\n",
    "\n",
    "#Step 3\n",
    "x = list()\n",
    "error = list()\n",
    "x.append(x_init)\n",
    "\n",
    "#Step 4\n",
    "for i in range(20):\n",
    "    x.append(g(x[i]))\n",
    "    error.append(abs(x[i+1]-x[i]))\n",
    "    if error[i] < accuracy:\n",
    "        print(\"The root x is %f with the accuracy %f\" %(x[i+1],error[i]))\n",
    "        break\n",
    "x, error"
   ]
  },
  {
   "cell_type": "markdown",
   "metadata": {},
   "source": [
    "__Example 3__\n",
    "\n",
    "Use the fixed-point iteration method to estimate the root of $f(x) = x^2-x-1$ with an accuracy of $\\epsilon_a = 5\\%$."
   ]
  },
  {
   "cell_type": "code",
   "execution_count": 43,
   "metadata": {},
   "outputs": [
    {
     "name": "stdout",
     "output_type": "stream",
     "text": [
      "The root x is 1.625000 with the accuracy 0.025000\n"
     ]
    },
    {
     "data": {
      "text/plain": [
       "([1, 2.0, 1.5, 1.6666666666666665, 1.6, 1.625],\n",
       " [1.0, 0.5, 0.16666666666666652, 0.06666666666666643, 0.02499999999999991])"
      ]
     },
     "execution_count": 43,
     "metadata": {},
     "output_type": "execute_result"
    }
   ],
   "source": [
    "#Step 1\n",
    "def g(x):\n",
    "    return 1 + 1/x #Try for different versions!\n",
    "\n",
    "#Step 2\n",
    "x_init = 1 #cannot be zero!\n",
    "accuracy = 0.05\n",
    "\n",
    "#Step 3\n",
    "x = list()\n",
    "error = list()\n",
    "x.append(x_init)\n",
    "\n",
    "#Step 4\n",
    "for i in range(20):\n",
    "    x.append(g(x[i]))\n",
    "    error.append(abs(x[i+1]-x[i]))\n",
    "    if error[i] < accuracy:\n",
    "        print(\"The root x is %f with the accuracy %f\" %(x[i+1],error[i]))\n",
    "        break\n",
    "x, error"
   ]
  },
  {
   "cell_type": "markdown",
   "metadata": {},
   "source": [
    "__Example 4__\n",
    "\n",
    "Use the fixed-point iteration method to estimate the root of $f(x) = x^2-2x-3$ with an accuracy of $\\epsilon_a = 5\\%$."
   ]
  },
  {
   "cell_type": "code",
   "execution_count": 44,
   "metadata": {},
   "outputs": [
    {
     "name": "stdout",
     "output_type": "stream",
     "text": [
      "The root x is 2.994521 with the accuracy 0.022008\n"
     ]
    },
    {
     "data": {
      "text/plain": [
       "([1,\n",
       "  5.0,\n",
       "  2.6,\n",
       "  3.1538461538461537,\n",
       "  2.951219512195122,\n",
       "  3.0165289256198347,\n",
       "  2.9945205479452053],\n",
       " [4.0,\n",
       "  2.4,\n",
       "  0.5538461538461537,\n",
       "  0.20262664165103184,\n",
       "  0.06530941342471275,\n",
       "  0.022008377674629376])"
      ]
     },
     "execution_count": 44,
     "metadata": {},
     "output_type": "execute_result"
    }
   ],
   "source": [
    "#Step 1\n",
    "def g(x):\n",
    "    return 2 + 3/x #Try for different versions!\n",
    "\n",
    "#Step 2\n",
    "x_init = 1 #cannot be zero!\n",
    "accuracy = 0.05\n",
    "\n",
    "#Step 3\n",
    "x = list()\n",
    "error = list()\n",
    "x.append(x_init)\n",
    "\n",
    "#Step 4\n",
    "for i in range(20):\n",
    "    x.append(g(x[i]))\n",
    "    error.append(abs(x[i+1]-x[i]))\n",
    "    if error[i] < accuracy:\n",
    "        print(\"The root x is %f with the accuracy %f\" %(x[i+1],error[i]))\n",
    "        break\n",
    "x, error"
   ]
  },
  {
   "cell_type": "markdown",
   "metadata": {},
   "source": [
    "__Exercise 1__\n",
    "\n",
    "Using the example codes above write a function for fixed-point algorithm with parameters:\n",
    "\n",
    "   * Maximum number of iterations\n",
    "   * Accuracy\n",
    "   * Initial value for $x_0$.\n",
    "   \n",
    "The resulting function should return:\n",
    "\n",
    "   * __If the root is found before the maximum number of iterations:__ The value of root $x_{i+1}$ with the accuracy and at which iteration it is found.\n",
    "   * __If the maximum number of iterations is reached before the desired accuracy level:__  The value of root $x_{i+1}$ with the accuracy. Also state that more iterations may be needed for a more accurate value."
   ]
  },
  {
   "cell_type": "code",
   "execution_count": null,
   "metadata": {},
   "outputs": [],
   "source": [
    "#Exercise 1\n",
    "\n"
   ]
  },
  {
   "cell_type": "markdown",
   "metadata": {},
   "source": [
    "### Algorithm for Fixed-Point Iteration\n",
    "\n",
    "The computer algorithm for fixed-point iteration is extremely simple. It consists of a loop to iteratively compute new estimates until the termination criterion has been met. Pseudocode for fixed-point iteration is as follows: \n",
    "\n",
    "![fixedPoints](images/fixedPoint.png)\n",
    "\n",
    "A possible python function for fixed-point iteration is below:"
   ]
  },
  {
   "cell_type": "code",
   "execution_count": 45,
   "metadata": {},
   "outputs": [
    {
     "name": "stdout",
     "output_type": "stream",
     "text": [
      "The root is 3.000203 with the accuracy 0.027092 at iteration 8.\n"
     ]
    },
    {
     "data": {
      "text/plain": [
       "(3.000203231378925, 0.027091552445368962)"
      ]
     },
     "execution_count": 45,
     "metadata": {},
     "output_type": "execute_result"
    }
   ],
   "source": [
    "def fixedPoint(xInit, tolerance, iMax):\n",
    "    x = list()\n",
    "    x.append(xInit)\n",
    "    error = list()\n",
    "    for i in range(iMax):\n",
    "        x.append(g(x[i]))\n",
    "        error.append(abs((x[i] - x[i+1])/x[i+1])*100)\n",
    "        if error[i] <= tolerance :\n",
    "            print(\"The root is %f with the accuracy %f at iteration %d.\" %(x[i+1], error[i], i))\n",
    "            return x[i+1], error[i]     \n",
    "    print(\"The root is %f with the accuracy %f at iteration %d. More iterations necessary.\" %(x[i+1], error[i], i))\n",
    "    return x[i+1], error[i]\n",
    "\n",
    "fixedPoint(1, 0.05,20)"
   ]
  },
  {
   "cell_type": "markdown",
   "metadata": {},
   "source": [
    "## The Newton-Raphson Method\n",
    "\n",
    "The most widely used of all root-locating formulas is the Newton-Raphson equation. If the initial guess at the root is $x_i$, a tangent can be extended from the point $[x_i,f(x_i)]$. The point where this tangent cross the $x$ axis usually represents an improved estimate of the root.\n",
    "\n",
    "![newtonRaphson](images/newtonRaphson.png)\n",
    "\n",
    "> Figure 2: Graphical depiction of the Newton-Raphson method. (_A tangent to the function of $x_i$ \\[that is, $f’(x_i)$\\] is extrapolated down to the $x$ axis to provide an estimate of the root at $x_{i+1}$._)\n",
    "\n",
    "As in Fig. 1, the first derivative at x is equivalent to the slope:\n",
    "\n",
    "\\begin{equation}\n",
    "\\label{eq.3} \\tag{3}\n",
    "f'(x_i) = \\frac{f(x_i) - 0}{x_{i+1}-x_i}\n",
    "\\end{equation}\n",
    "\n",
    "which can be rearranged to yield Newton-Raphson formula Eq.\\eqref{eq.4}.\n",
    "\n",
    "\\begin{equation}\n",
    "\\label{eq.4} \\tag{4}\n",
    "x_{i+1}= x_i - \\frac{f(x_i)}{f'(x_i)}\n",
    "\\end{equation}\n",
    "\n",
    "__Example 1__\n",
    "\n",
    "Use the Newton-Raphson method to estimate the root of $f(x) = e^{-x} - x$, employing an initial guess of $x_0 = 0$.\n",
    "\n",
    "   __Step 1:__ Define the function $f$ and its derivative $f'$.\n",
    "   > You can calculate the derivative and then define it as a function or you can use python to calculate it for more complex functions. \n",
    "   \n",
    "   __Step 2:__ Define the variable $x$ as list, and assign initial value as $0$.\n",
    "   \n",
    "   __Step 3:__ Using Eq.\\eqref{eq.4} calculate $x_{i+1}$ for 20 iterations."
   ]
  },
  {
   "cell_type": "code",
   "execution_count": 47,
   "metadata": {},
   "outputs": [
    {
     "data": {
      "text/plain": [
       "0.5671432904097838"
      ]
     },
     "execution_count": 47,
     "metadata": {},
     "output_type": "execute_result"
    }
   ],
   "source": [
    "#Step 1\n",
    "def f(x):\n",
    "    return m.exp(-x) - x\n",
    "\n",
    "def fPrime(x):\n",
    "    return -m.exp(-x) - 1\n",
    "\n",
    "#Step 2\n",
    "x = list()\n",
    "x.append(0)\n",
    "\n",
    "for i in range(20):\n",
    "    x.append(x[i] - (f(x[i])/fPrime(x[i])))\n",
    "x[20]"
   ]
  },
  {
   "cell_type": "markdown",
   "metadata": {},
   "source": [
    "__Example 2__\n",
    "\n",
    "Use the Newton-Raphson method to estimate the root of $f(x)=(x-2)^4 – 3$, employing an initial guess of $x_0 = 3$."
   ]
  },
  {
   "cell_type": "code",
   "execution_count": 48,
   "metadata": {},
   "outputs": [
    {
     "data": {
      "text/plain": [
       "[3,\n",
       " 3.5,\n",
       " 3.3472222222222223,\n",
       " 3.31713769380344,\n",
       " 3.316075300754006,\n",
       " 3.3160740129543824,\n",
       " 3.3160740129524924,\n",
       " 3.3160740129524924,\n",
       " 3.3160740129524924,\n",
       " 3.3160740129524924,\n",
       " 3.3160740129524924,\n",
       " 3.3160740129524924,\n",
       " 3.3160740129524924,\n",
       " 3.3160740129524924,\n",
       " 3.3160740129524924,\n",
       " 3.3160740129524924,\n",
       " 3.3160740129524924,\n",
       " 3.3160740129524924,\n",
       " 3.3160740129524924,\n",
       " 3.3160740129524924,\n",
       " 3.3160740129524924]"
      ]
     },
     "execution_count": 48,
     "metadata": {},
     "output_type": "execute_result"
    }
   ],
   "source": [
    "def f(x):\n",
    "    return (x-2)**4 - 3\n",
    "\n",
    "def fPrime(x):\n",
    "    return 4*(x-2)**3\n",
    "\n",
    "def newton(i):\n",
    "    return x[i] - (f(x[i])/fPrime(x[i]))\n",
    "\n",
    "x = list()\n",
    "x.append(3)\n",
    "\n",
    "for i in range(20):\n",
    "    x.append(newton(i))\n",
    "x"
   ]
  },
  {
   "cell_type": "markdown",
   "metadata": {},
   "source": [
    "There is no general convergence criterion for Newton-Raphson. Its convergence depends on the nature of the function and on the accuracy of the initial guess. The only remedy is to have an initial guess that is _sufficiently_ close to the root. And for some functions, no guess will work! The lack of a general convergence criterion also suggests that good computer software should be designed to recognize slow convergence or divergence. \n",
    "\n",
    "Potential problems of the Newton-Raphson method while programming:\n",
    "1. A plotting routine should be included in the program.\n",
    "2. At the end of the computation, the final root estimate should always be substituted into the original function to compute whether the result is close to zero.\n",
    "3. The program should always include an upper limit on the number of iterations to guard against oscillating, slowly convergent, or divergent solutions that could persist interminably.\n",
    "4. The program should alert the user and take account of the possibility that $f’(x)$ might equal zero at any time during the computation.\n",
    "\n",
    "__Exercise 2__\n",
    "\n",
    "Write a function for Newton-Raphson Method using below parameters:\n",
    "\n",
    "   * Maximum number of iterations,\n",
    "   * Error tolerance,\n",
    "   * Initial $x_0$ value."
   ]
  },
  {
   "cell_type": "code",
   "execution_count": null,
   "metadata": {},
   "outputs": [],
   "source": [
    "#Exercise 2\n",
    "\n"
   ]
  },
  {
   "cell_type": "markdown",
   "metadata": {},
   "source": [
    "## Secant Method\n",
    "\n",
    "A potential problem in implementing the Newton-Raphson method is the evaluation of the derivative. Although this is not inconvenient for polynomials and many other functions, there are certain functions whose derivatives may be extremely difficult or inconvenient to evaluate. For these cases, the derivative can be approximated by a backward finite divided difference, as in Fig.3.\n",
    "\n",
    "\\begin{equation}\n",
    "\\label{eq.5}\\tag{5}\n",
    "f’(x_i) \\cong \\frac{f(x_{i-1}) – f(x_i)}{x_{i-1} – x_i}\n",
    "\\end{equation}\n",
    "\n",
    "![secant](images/secant.png)\n",
    ">Figure 3: Graphical depiction of the secant method\n",
    "\n",
    "This technique is similar to the Newton-Raphson technique in the sense that an estimate of the root is predicted by extrapolating a tangent of the function to the $x$ axis. However, the secant method uses a difference rather than a derivative to estimate the slope.\n",
    "\n",
    "\\begin{equation}\n",
    "\\label{eq.6} \\tag{6}\n",
    "x_{i+1} = x_i - \\frac{f(x_i)(x_{i-1}-x_i)}{f(x_{i-1}-f(x_i)}\n",
    "\\end{equation}\n",
    "\n",
    "__Example 1__\n",
    "\n",
    "Use the secant method to estimate the root of $f(x) = e^{-x} - x$. Start with initial estimates of $x_{−1} = 0$ and $x_0 = 1.0$. (The true root is 0.56714329.)\n",
    "\n",
    "   * __Step 1:__ Define the function $f$. \n",
    "   * __Step 2:__ Define the values for $x_{−1}$ and $x_0$.\n",
    "   * __Step 3:__ Define the secant iteration function.\n",
    "   * __Step 4:__ Run the secant iteration for 5 times."
   ]
  },
  {
   "cell_type": "code",
   "execution_count": 12,
   "metadata": {},
   "outputs": [
    {
     "name": "stdout",
     "output_type": "stream",
     "text": [
      "[0, 1.0, 0.6126998367802821]\n",
      "[0, 1.0, 0.6126998367802821, 0.5638383891610742]\n",
      "[0, 1.0, 0.6126998367802821, 0.5638383891610742, 0.5671703584197446]\n",
      "[0, 1.0, 0.6126998367802821, 0.5638383891610742, 0.5671703584197446, 0.5671433066049633]\n"
     ]
    }
   ],
   "source": [
    "import math as m\n",
    "#Step 1\n",
    "\n",
    "def f(x):\n",
    "    return m.exp(-x)-x\n",
    "\n",
    "#Step 2\n",
    "x = list()\n",
    "x.append(0)\n",
    "x.append(1.0)\n",
    "\n",
    "#Step 3\n",
    "def secant(i):\n",
    "    return x[i] - (f(x[i]) * (x[i-1]-x[i])) / (f(x[i-1]) - f(x[i]))\n",
    "\n",
    "for i in range(1,5):\n",
    "    x.append(secant(i))\n",
    "    print(x)"
   ]
  },
  {
   "cell_type": "markdown",
   "metadata": {},
   "source": [
    "__Exercise 3__\n",
    "\n",
    "Write a function for secant method which uses the below parameters:\n",
    "\n",
    "   * Maximum number of iterations,\n",
    "   * Error tolerance,\n",
    "   * The values of $x_{-1}$ and $x_0$"
   ]
  },
  {
   "cell_type": "code",
   "execution_count": 13,
   "metadata": {},
   "outputs": [],
   "source": [
    "#Exercise 3\n",
    "\n"
   ]
  },
  {
   "cell_type": "markdown",
   "metadata": {},
   "source": []
  }
 ],
 "metadata": {
  "kernelspec": {
   "display_name": "Python 3",
   "language": "python",
   "name": "python3"
  },
  "language_info": {
   "codemirror_mode": {
    "name": "ipython",
    "version": 3
   },
   "file_extension": ".py",
   "mimetype": "text/x-python",
   "name": "python",
   "nbconvert_exporter": "python",
   "pygments_lexer": "ipython3",
   "version": "3.7.1"
  }
 },
 "nbformat": 4,
 "nbformat_minor": 2
}
