{
 "cells": [
  {
   "cell_type": "markdown",
   "metadata": {},
   "source": [
    "# Python"
   ]
  },
  {
   "cell_type": "markdown",
   "metadata": {},
   "source": [
    "Before starting run the cell below with *shift+enter* or *ctrl+enter*. This will import the necessary packages further down the notebook."
   ]
  },
  {
   "cell_type": "code",
   "execution_count": null,
   "metadata": {},
   "outputs": [],
   "source": [
    "import numpy as np\n",
    "import matplotlib.pyplot as plot\n",
    "print(\"Packages are succesfully imported.\")"
   ]
  },
  {
   "cell_type": "markdown",
   "metadata": {},
   "source": [
    "## Basic information on Python"
   ]
  },
  {
   "cell_type": "markdown",
   "metadata": {},
   "source": [
    "Throughout these lectures we will be using Python, and its basic data types such as variables, lists, loops and conditionals. It is very important that you learn and understand how to use these structures. You should be ready to understand more complicated codes further down if you complete exercises below.\n",
    "\n",
    "### Variables\n",
    "A variable can be either a numerical value -such as an integer or a floating number- or a text value -string-. We can define a numerical variable with assigning a numeric value to the variable name. Let $x$ be the variable name, and it has a value of 5 (integer). \n",
    "\n",
    "**Run the cell below with *shift+enter* or *ctrl+enter*. You should see the out value as *int*, showing the type of the variable $x$.**"
   ]
  },
  {
   "cell_type": "code",
   "execution_count": null,
   "metadata": {},
   "outputs": [],
   "source": [
    "x = 5\n",
    "type(x)"
   ]
  },
  {
   "cell_type": "markdown",
   "metadata": {},
   "source": [
    "**Run the cell below with *shift+enter* or *ctrl+enter*. You should see the out value as *float*, showing the type of the variable $x$.**"
   ]
  },
  {
   "cell_type": "code",
   "execution_count": null,
   "metadata": {},
   "outputs": [],
   "source": [
    "x = 5.0\n",
    "type(x)"
   ]
  },
  {
   "cell_type": "markdown",
   "metadata": {},
   "source": [
    "**Run the cell below with *shift+enter* or *ctrl+enter*. You should see the out value as *str* (string), showing the type of the variable $x$.**"
   ]
  },
  {
   "cell_type": "code",
   "execution_count": null,
   "metadata": {},
   "outputs": [],
   "source": [
    "x = \"5\"\n",
    "type(x)"
   ]
  },
  {
   "cell_type": "markdown",
   "metadata": {},
   "source": [
    "> Notice that the variable name does not change but the type of the variable changes with every new assigned value!\n",
    "> Be careful when assigning new values to a variable or when renewing the value of a variable."
   ]
  },
  {
   "cell_type": "markdown",
   "metadata": {},
   "source": [
    "### Arrays and Lists \n",
    "\n",
    "Arrays ans lists are data structures, and they can hold multiple values at once. The main difference is that an array holds strictly numerical values whereas lists can hold both numerical and text value.\n",
    "\n",
    "> An array is similar with a vector and its size is $(1\\times n)$.\n",
    "\n",
    "Let $a$ be an array and $l$ be a list. \n",
    "\n",
    "Run the following cells to observe the difference between them:"
   ]
  },
  {
   "cell_type": "code",
   "execution_count": null,
   "metadata": {},
   "outputs": [],
   "source": [
    "a = np.array([1,2,3])\n",
    "l = [1,2,3]\n",
    "\n",
    "type(a),type(l)"
   ]
  },
  {
   "cell_type": "markdown",
   "metadata": {},
   "source": [
    "We can call a specific item of an array or a list:\n"
   ]
  },
  {
   "cell_type": "code",
   "execution_count": null,
   "metadata": {},
   "outputs": [],
   "source": [
    "a[1]"
   ]
  },
  {
   "cell_type": "code",
   "execution_count": null,
   "metadata": {},
   "outputs": [],
   "source": [
    "l[0]"
   ]
  },
  {
   "cell_type": "markdown",
   "metadata": {},
   "source": [
    "> Remember that Python starts counting with 0.\n",
    "\n",
    "In the next cell call the first item (1) from array $a$ and third item from list $l$.\n",
    "\n",
    "*If correct your out line should show 1 for the array and 3 for the list.*"
   ]
  },
  {
   "cell_type": "code",
   "execution_count": null,
   "metadata": {},
   "outputs": [],
   "source": [
    "#call the first item (1) from array  𝑎  and third item from list  𝑙"
   ]
  },
  {
   "cell_type": "markdown",
   "metadata": {},
   "source": [
    "We can add new values to an array to a list. This allows us to keep iterative values of a variable, and then we can use it while plotting. Array and list have different methods for appending a value to the end:\n",
    "\n",
    "For arrays it is:\n",
    "\n",
    "numpy.append(arrayName, itemToBeAdded) *In this notebook we use np shorthand for the numpy package!*\n",
    "\n",
    "For lists it is:\n",
    "\n",
    "listName.append(itemToBeAdded)\n",
    "\n",
    "Run the cell below to add $0$ to array $a$ and list $l$:"
   ]
  },
  {
   "cell_type": "code",
   "execution_count": null,
   "metadata": {},
   "outputs": [],
   "source": [
    "np.append(a,0)\n",
    "l.append(0)\n",
    "\n",
    "a, l"
   ]
  },
  {
   "cell_type": "markdown",
   "metadata": {},
   "source": [
    "As we can see the np.append method does not assign the new array value to $a$ but just returns the array as an output.\n",
    "\n",
    "Run the cell below, and fix it so the new value of array $a$ will include $0$ at the end."
   ]
  },
  {
   "cell_type": "code",
   "execution_count": null,
   "metadata": {},
   "outputs": [],
   "source": [
    "np.append(a,0)"
   ]
  },
  {
   "cell_type": "markdown",
   "metadata": {},
   "source": [
    "### Conditionals\n",
    "\n",
    "In numerical analysis we will use conditionals for many occasions such as termination conditions. Let $\\epsilon$ be the error of the value we are searching for, and it has a tolerance of $0.05$. We have to check the value of $\\epsilon$ for each iteration. Then we can stop searching when we reach a tolerance of $0.05$ or lower. \n",
    "\n",
    "We can check if the value of a variable is the desired value with **if-elif-else** conditionals.\n",
    "\n",
    "The answer we are searching can be binary:\n",
    "\n",
    "*Is the value of $\\epsilon$ is less than $0.05$?* \n",
    "\n",
    "The answer to this question can be either *yes* or *no* (binary).\n",
    "\n",
    "For such questions we use **if-else** conditional:"
   ]
  },
  {
   "cell_type": "code",
   "execution_count": null,
   "metadata": {},
   "outputs": [],
   "source": [
    "#Change the value of epsilon to observe the result of the conditional below:\n",
    "\n",
    "epsilon = 0.04\n",
    "\n",
    "if epsilon <= 0.05:\n",
    "    print(\"epsilon is less than or equal to 0.05\")\n",
    "else:\n",
    "    print(\"epsilon is greater than 0.05\")"
   ]
  },
  {
   "cell_type": "markdown",
   "metadata": {},
   "source": [
    "If the question requires us to check for multiple conditions in order then we can use **if-elif-else** conditionals. \n",
    "\n",
    "*Is $\\epsilon$ greater than $0.05$?*\n",
    "*If not is it less than $1$?*\n",
    "\n",
    "Such a question can be asked in Python as follows:"
   ]
  },
  {
   "cell_type": "code",
   "execution_count": null,
   "metadata": {},
   "outputs": [],
   "source": [
    "epsilon = 0.04\n",
    "\n",
    "#Change the value of epsilon to observe the result.\n",
    "\n",
    "if epsilon <= 0.05:\n",
    "    print(\"epsilon is less than or equal to 0.05\")\n",
    "elif epsilon <=1:\n",
    "    print(\"epsilon is less than or equal to 1 but greater than 0.05\")\n",
    "else:\n",
    "    print(\"epsilon is greater than 1\")"
   ]
  },
  {
   "cell_type": "markdown",
   "metadata": {},
   "source": [
    "We can use multiple **elif** conditionals at once:"
   ]
  },
  {
   "cell_type": "code",
   "execution_count": null,
   "metadata": {},
   "outputs": [],
   "source": [
    "fruit = \" \"\n",
    "\n",
    "#Change the value of fruit to observe the result.\n",
    "\n",
    "if fruit == \"apple\":\n",
    "    print(\"apple\")\n",
    "elif fruit == \"pear\":\n",
    "    print(\"pear\")\n",
    "elif fruit == \"peach\":\n",
    "    print(\"peach\")\n",
    "elif fruit == \"banana\":\n",
    "    print(\"banana\")\n",
    "else:\n",
    "    print(\"Fruit is not an apple, a pear, a peach or a banana. It must be something else!\")"
   ]
  },
  {
   "cell_type": "markdown",
   "metadata": {},
   "source": [
    "### Loops\n",
    "\n",
    "The numerical methods execute a list of instructions in order to converge the real value of a variable we searching for. Each execution of every step is called an iteration. \n",
    "\n",
    "> The method does not change over iterations, only the values of certain variables can change!\n",
    "\n",
    "Let's assume that we want to execute a list of instructions for 10 times. We can write the instruction list 10 times but then:\n",
    "    \n",
    "    1) We can only run 10 iterations every time or we have to write each iteration by hand. \n",
    "    2) What will happen if we want to run 10 million iterations?\n",
    "    3) What will happen if we want to search for a specific value and we do not know how many iterations we need?\n",
    "\n",
    "Enter the loops!\n",
    "\n",
    "There are 2 kind of loop operators **for** and **while**. We will be focusing on **for** loops mainly.\n",
    "\n",
    "A **for** loop runs the same instruction list **for** a prespecified number of times. \n",
    "\n",
    "If we want to add 1 to the value of $x$ for $5$ times then we can write:"
   ]
  },
  {
   "cell_type": "code",
   "execution_count": null,
   "metadata": {},
   "outputs": [],
   "source": [
    "for i in range(5):\n",
    "    x = x + 1\n",
    "    print(\"x is equal to %d\" %x)\n",
    "    "
   ]
  },
  {
   "cell_type": "markdown",
   "metadata": {},
   "source": [
    "Here **i**  is the iteration counter, and __range(5)__ function says that the counter **i** will have values $[0,1,2,3,4]$. \n",
    "\n",
    "Above we only see the new value of variable $x$ but cannot observe the value of **i**.\n",
    "\n",
    "The use of range function:\n",
    "![rangeFunction](images/range.png)\n",
    "\n",
    "> Change the place of a print function so that the output will start with the initial value of x!"
   ]
  },
  {
   "cell_type": "code",
   "execution_count": null,
   "metadata": {},
   "outputs": [],
   "source": [
    "for i in range(5):\n",
    "    x = x + 1\n",
    "    print(\"i is equal to %d\" %i)\n",
    "    print(\"x is equal to %d\" %x)"
   ]
  },
  {
   "cell_type": "markdown",
   "metadata": {},
   "source": [
    "### Combining Loops with Conditionals\n",
    "\n",
    "We mentioned that in numerical methods we use loops so that we do not have to write the same instruction list over and over. These instruction lists often includes conditionals to check the value of a variable. As a result we need to write conditionals in loops.\n",
    "\n",
    "### \"Bom!\" Game\n",
    "Bom is a game in which players count the numbers starting with 1, but say \"bom!\" instead of the number for numbers which can be divided by 5. \n",
    "\n",
    "Let's write a game of bom for 100 iterations:"
   ]
  },
  {
   "cell_type": "code",
   "execution_count": null,
   "metadata": {},
   "outputs": [],
   "source": [
    "for i in range(1,100):\n",
    "    if i % 5 == 0:\n",
    "        print(\"Bom!\")\n",
    "    else:\n",
    "        print(i)"
   ]
  },
  {
   "cell_type": "markdown",
   "metadata": {},
   "source": [
    "Correct the code below so it will check for:\n",
    "\n",
    "    1) If the number can be divided by 5 (print Bom!)\n",
    "    2) If the number can be divided by 7 (print Vam!)\n",
    "    \n",
    "What happens when **i** equals to 35?"
   ]
  },
  {
   "cell_type": "code",
   "execution_count": null,
   "metadata": {},
   "outputs": [],
   "source": [
    "for i in range(1,100):\n",
    "    if i % 5 == 0:\n",
    "        print(\"Bom!\")\n",
    "    elif :\n",
    "        \n",
    "    else:\n",
    "        print(i)"
   ]
  },
  {
   "cell_type": "markdown",
   "metadata": {},
   "source": [
    "### Functions\n",
    "\n",
    "We use functions to call the methods we have defined before so that we do not have to re-write the whole method everytime we need it. We use parameters while defining functions as a result we can run the same method with different parameters each time we run it.\n",
    "\n",
    "> A function can be a mathematical function such as $f(x)=x^2$ or a list of instructions, *algorithms*, which solves a problem.\n",
    "\n",
    "There are two ways of defining a function in python:\n",
    "\n",
    "    1) *A function with no parameters:* Runs with the same parameters everytime it is called.\n",
    "    2) *A function with parameters:* Runs with the given parameter values while calling the function.\n",
    "    \n",
    "A function can be explained in 3 parts:\n",
    "\n",
    "    1) Definition of function name and parameters,\n",
    "    2) List of instructions, and\n",
    "    3) Return line.\n",
    "    \n",
    "> Without the return line, results of a function will not be stored!\n",
    "\n",
    "Let us define a mathematical function $f(x) = x^2$. Here $f$ is the name of the function, $x$ is the parameter, $x^2$ is the instruction and also the value to be returned as a result."
   ]
  },
  {
   "cell_type": "code",
   "execution_count": null,
   "metadata": {},
   "outputs": [],
   "source": [
    "def f(x):\n",
    "    return x ** 2"
   ]
  },
  {
   "cell_type": "markdown",
   "metadata": {},
   "source": [
    "We can call the function for different values of $x$ as below:"
   ]
  },
  {
   "cell_type": "code",
   "execution_count": null,
   "metadata": {},
   "outputs": [],
   "source": [
    "#Try to call for different values of x\n",
    "f(2)"
   ]
  },
  {
   "cell_type": "code",
   "execution_count": null,
   "metadata": {},
   "outputs": [],
   "source": [
    "#Re-write the f(x) function without return expression and observe the result\n"
   ]
  },
  {
   "cell_type": "markdown",
   "metadata": {},
   "source": [
    "If a function requires multiple parameter values such as $f(x,y) = x + y$, we can write it as follows:"
   ]
  },
  {
   "cell_type": "code",
   "execution_count": null,
   "metadata": {},
   "outputs": [],
   "source": [
    "def f(x,y):\n",
    "    return x + y\n",
    "\n",
    "#try for different values of x and y.\n",
    "f(1,2)\n"
   ]
  },
  {
   "cell_type": "code",
   "execution_count": null,
   "metadata": {},
   "outputs": [],
   "source": [
    "#What happens if we do not define a parameter value\n",
    "f(1)"
   ]
  },
  {
   "cell_type": "markdown",
   "metadata": {},
   "source": [
    "Now let's try a non-mathematical function.\n",
    "The function should do *take a number and a multiplier, then should multiply the numbers for a given number of iterations*.\n",
    "\n",
    "The name of the function is *multiply*, and it has the parameters of *number*, *multiplier* and *iteration*. \n"
   ]
  },
  {
   "cell_type": "code",
   "execution_count": null,
   "metadata": {},
   "outputs": [],
   "source": [
    "def multiply(number,multiplier,iteration):\n",
    "    for i in range(iteration):\n",
    "        number = number * multiplier\n",
    "    return number"
   ]
  },
  {
   "cell_type": "code",
   "execution_count": null,
   "metadata": {},
   "outputs": [],
   "source": [
    "#Try to call the multiply function\n"
   ]
  }
 ],
 "metadata": {
  "kernelspec": {
   "display_name": "Python 3",
   "language": "python",
   "name": "python3"
  },
  "language_info": {
   "codemirror_mode": {
    "name": "ipython",
    "version": 3
   },
   "file_extension": ".py",
   "mimetype": "text/x-python",
   "name": "python",
   "nbconvert_exporter": "python",
   "pygments_lexer": "ipython3",
   "version": "3.7.1"
  }
 },
 "nbformat": 4,
 "nbformat_minor": 2
}
