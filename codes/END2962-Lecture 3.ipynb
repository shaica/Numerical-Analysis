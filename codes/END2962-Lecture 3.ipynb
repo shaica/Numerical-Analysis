{
 "cells": [
  {
   "cell_type": "markdown",
   "metadata": {},
   "source": [
    "# Solution of Equations with One Variable"
   ]
  },
  {
   "cell_type": "markdown",
   "metadata": {},
   "source": [
    "## Bracketing Methods"
   ]
  },
  {
   "cell_type": "markdown",
   "metadata": {},
   "source": [
    "This lecture on roots of equations deals with methods *that exploit the fact that a function typically changes sign in the vicinity of a root*. These techniques are called bracketing methods because *two initial guesses for the root are re-quired*. As the name implies, these guesses must “bracket,” or be on either side of, the root. The particu-lar methods described herein employ different strategies to *systematically reduce the width of the bracket* and, hence, home in on the correct answer."
   ]
  },
  {
   "cell_type": "markdown",
   "metadata": {},
   "source": [
    "### The Bisection Method\n",
    "\n",
    "If $f(x)$ is real and continous in the interval from $a$ to $b$ and $f(a)$ and $f(b)$ have opposite signs (Eq.\\eqref{eq.1}), and then *there is at least one real root between* $a$ and $b$.\n",
    "\n",
    "\\begin{equation}\n",
    "    \\label{eq.1} \\tag{1}\n",
    "    f(a)\\times f(b) < 0\n",
    "\\end{equation}\n",
    "\n",
    "Then, the location of the sign change identifies the root precisely by dividing the interval into a number of subintervals. Each of these subintervals is searched to locate the sign change. The process is repeated and the root estimate refined by dividing the subintervals into finer increments. The *bisection method*, one type of incremental search method in which the interval is always divided in half. \n",
    "\n",
    "![bisectionGraph](images/bisection1.png)\n",
    "\n",
    "Suppose $f$ is a continuous function defined on the interval $[a, b]$, with $f(a)$ and $f(b)$ of opposite sign. The *Intermediate Value Theorem* implies that a number $p$ exists in $(a, b)$ with $f(p)=0$. Although the procedure will work when there is more than one root in the interval $(a, b)$, we assume for simplicity that the root in this interval is *unique*. \n"
   ]
  },
  {
   "cell_type": "markdown",
   "metadata": {},
   "source": [
    "Let $x_{root}$ be the root of function $f(x)$ (Eq.\\eqref{eq.2}) in the interval $[a,b]$. \n",
    "\n",
    "\\begin{equation}\n",
    "    \\label{eq.2}\\tag{2}\n",
    "    f(x) = (x-2)^4 - 3\n",
    "\\end{equation}\n",
    "\n",
    "Find the $x_{root}$ between the interval $[2,4]$, if it exists."
   ]
  },
  {
   "cell_type": "code",
   "execution_count": null,
   "metadata": {},
   "outputs": [],
   "source": [
    "#First step is to define the mathematical function f(x)\n",
    "def f(x):\n",
    "    return (x-2)**4 - 3\n"
   ]
  },
  {
   "cell_type": "markdown",
   "metadata": {},
   "source": [
    "**Step 1:** Check $f(a).f(b)<0$ to ensure that the function changes sign over the interval:"
   ]
  },
  {
   "cell_type": "code",
   "execution_count": null,
   "metadata": {},
   "outputs": [],
   "source": [
    "#The interval given is [2,4] so we know the values of a and b:\n",
    "a = 2\n",
    "b = 4\n",
    "\n",
    "#Check the values of f(a) and f(b).\n"
   ]
  },
  {
   "cell_type": "code",
   "execution_count": null,
   "metadata": {},
   "outputs": [],
   "source": [
    "'''\n",
    "Exercise 1)\n",
    "Write a conditional expression to check if the multiplication of f(a)*f(b) has negative sign\n",
    "If it has a negative sign print out \"there is a real root in this interval\", else print out \"there is not a real \n",
    "root in this interval\"\n",
    "'''\n",
    "\n"
   ]
  },
  {
   "cell_type": "markdown",
   "metadata": {},
   "source": [
    "**Step 2:** Set $a_1=a$ and $b_1=b$ and let $p_1$ be the midpoint of $[a, b]$:"
   ]
  },
  {
   "cell_type": "code",
   "execution_count": null,
   "metadata": {},
   "outputs": [],
   "source": [
    "'''\n",
    "Exercise 2)\n",
    "If the multiplication has negative sign then edit the conditional expression so that it will assign x_root = (a+b)/2.\n",
    "'''\n",
    "\n"
   ]
  },
  {
   "cell_type": "code",
   "execution_count": null,
   "metadata": {},
   "outputs": [],
   "source": [
    "'''\n",
    "Exercise 3)\n",
    "Create a test variable, and assign its value to f(x_root)*f(b).\n",
    "Edit the conditional expression to check the sign of test.\n",
    "'''\n"
   ]
  },
  {
   "cell_type": "markdown",
   "metadata": {},
   "source": [
    "**Step 3:** Make the following evaluations to determine in which subinterval to root lies:\n",
    "   1. If $f(p_1)=0$, then $p=p_1$, and we are done.\n",
    "   2. If $f(p_1)\\neq 0$, then $f(p_1)$ has the same sign as either $f(a_1)$ or $f(b_1)$.\n",
    "       * \tIf $f(p_1)$ and $f(a_1)$ have the same sign, $p\\in(p_1,b_1)$. Set $a_2  = p_1$ and $b_2  = b_1$.\n",
    "       *    If $f(p_1)$ and $f(a_1)$ have opposite signs, $p\\in(a_1,p_1)$. Set $a_2  = a_1$ and $b_2  = p_1$.\n",
    "       *    Then reapply the process to the interval $[a_2,b_2]$."
   ]
  },
  {
   "cell_type": "code",
   "execution_count": null,
   "metadata": {},
   "outputs": [],
   "source": [
    "'''\n",
    "Exercise 4)\n",
    "If the sign of the test variable is negative then there is a real root between the interval [x_root,b],\n",
    "If the sign of the test variable is positive then there is a real root between the intervarl [a, x_root], and\n",
    "If the test variable is equal to 0 then it is the real root of f(x).\n",
    "\n",
    "Edit the conditional expression to include conditions above.\n",
    "\n",
    "As a result you should have a representation of a single iteration of bisection method.\n",
    "'''\n",
    "\n"
   ]
  },
  {
   "cell_type": "code",
   "execution_count": null,
   "metadata": {},
   "outputs": [],
   "source": [
    "'''\n",
    "Exercise 5)\n",
    "Run the iteration for 10 time using a for loop.\n",
    "'''\n",
    "\n"
   ]
  },
  {
   "cell_type": "code",
   "execution_count": null,
   "metadata": {},
   "outputs": [],
   "source": [
    "'''\n",
    "Exercise 6)\n",
    "Write a bisection function with parameters of interval values and maximum number of iterations.\n",
    "'''\n",
    "\n"
   ]
  },
  {
   "cell_type": "code",
   "execution_count": null,
   "metadata": {},
   "outputs": [],
   "source": [
    "'''\n",
    "Exercise 7)\n",
    "Write a bisection function with parameters of interval values, maximum number of iterations, and error tolerance.\n",
    "'''\n"
   ]
  },
  {
   "cell_type": "markdown",
   "metadata": {},
   "source": [
    "**Exercise 8)** The function given in Eq.\\eqref{eq.3} has a real root in the interva $[1,2]$. Use the bisection method to determine an approximation of the root that is accurate at least within $10^{-4}$.\n",
    "\n",
    "\\begin{equation}\n",
    "    \\label{eq.3}\\tag{3}\n",
    "    f(x) = x^3 + 4x^2 - 10\n",
    "\\end{equation}"
   ]
  },
  {
   "cell_type": "code",
   "execution_count": null,
   "metadata": {},
   "outputs": [],
   "source": [
    "'''\n",
    "Exercise 8)\n",
    "Clue: Define the new function and then call the bisection method.\n",
    "'''\n"
   ]
  },
  {
   "cell_type": "markdown",
   "metadata": {},
   "source": [
    "### Homework \n",
    "\n",
    "Use bisection method to determine the drag coefficient $c$ in falling parachutist example when $68.1kg$ parachutist has the velocity of $40\\frac{m}{s}$ after free falling for time $10s$. ($g=9.8\\frac{m}{s^2}$)"
   ]
  },
  {
   "cell_type": "code",
   "execution_count": null,
   "metadata": {},
   "outputs": [],
   "source": []
  }
 ],
 "metadata": {
  "kernelspec": {
   "display_name": "Python 3",
   "language": "python",
   "name": "python3"
  },
  "language_info": {
   "codemirror_mode": {
    "name": "ipython",
    "version": 3
   },
   "file_extension": ".py",
   "mimetype": "text/x-python",
   "name": "python",
   "nbconvert_exporter": "python",
   "pygments_lexer": "ipython3",
   "version": "3.7.1"
  }
 },
 "nbformat": 4,
 "nbformat_minor": 2
}
